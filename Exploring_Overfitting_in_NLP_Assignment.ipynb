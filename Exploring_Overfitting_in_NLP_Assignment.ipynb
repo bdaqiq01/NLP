{
  "cells": [
    {
      "cell_type": "markdown",
      "metadata": {
        "id": "Bh2sVTRspvmS"
      },
      "source": [
        "\n",
        "# Week 3: Exploring Overfitting in NLP\n",
        "\n",
        "Welcome to this assignment! During this week you saw different ways to handle sequence-like data. You saw how some Keras' layers such as `GRU`, `Conv` and `LSTM` can be used to tackle problems in this space. Now you will put this knowledge into practice by creating a model architecture that does not overfit.\n",
        "\n",
        "For this assignment you will be using a variation of the [Sentiment140 dataset](http://help.sentiment140.com/home), which contains 1.6 million tweets alongside their respective sentiment (0 for negative and 4 for positive).\n",
        "\n",
        "You will also need to create the helper functions very similar to the ones you coded in previous assignments pre-process data and to tokenize sentences. However the objective of the assignment is to find a model architecture that will not overfit.\n",
        "\n",
        "Let's get started!"
      ]
    },
    {
      "cell_type": "code",
      "execution_count": null,
      "metadata": {
        "deletable": false,
        "editable": false,
        "id": "vmwpivoKpvmU",
        "outputId": "1024b29e-5fb0-43ec-b0f3-cfa1762b07cf"
      },
      "outputs": [
        {
          "name": "stdout",
          "output_type": "stream",
          "text": [
            "\u001b[32mGrader metadata detected! You can proceed with the lab!\u001b[0m\r\n"
          ]
        }
      ],
      "source": [
        "# IMPORTANT: This will check your notebook's metadata for grading.\n",
        "# Please do not continue the lab unless the output of this cell tells you to proceed.\n",
        "!python add_metadata.py --filename C3W3_Assignment.ipynb"
      ]
    },
    {
      "cell_type": "markdown",
      "metadata": {
        "id": "61rrmhE8pvmV"
      },
      "source": [
        "_**NOTE:** To prevent errors from the autograder, you are not allowed to edit or delete non-graded cells in this notebook . Please only put your solutions in between the `### START CODE HERE` and `### END CODE HERE` code comments, and also refrain from adding any new cells. **Once you have passed this assignment** and want to experiment with any of the non-graded code, you may follow the instructions at the bottom of this notebook._"
      ]
    },
    {
      "cell_type": "code",
      "execution_count": null,
      "metadata": {
        "deletable": false,
        "editable": false,
        "id": "hmA6EzkQJ5jt",
        "tags": [
          "graded"
        ]
      },
      "outputs": [],
      "source": [
        "# grader-required-cell\n",
        "\n",
        "import csv\n",
        "import random\n",
        "import pickle\n",
        "import numpy as np\n",
        "import tensorflow as tf\n",
        "from tensorflow.keras.preprocessing.text import Tokenizer\n",
        "from tensorflow.keras.preprocessing.sequence import pad_sequences\n",
        "import matplotlib.pyplot as plt\n",
        "from scipy.stats import linregress"
      ]
    },
    {
      "cell_type": "markdown",
      "metadata": {
        "id": "-xAVD4FKpvmW"
      },
      "source": [
        "## Defining some useful global variables\n",
        "\n",
        "Next you will define some global variables that will be used throughout the assignment.\n",
        "\n",
        "- `EMBEDDING_DIM`: Dimension of the dense embedding, will be used in the embedding layer of the model. Defaults to 100.\n",
        "\n",
        "\n",
        "- `MAXLEN`: Maximum length of all sequences. Defaults to 16.\n",
        "\n",
        "\n",
        "- `TRUNCATING`: Truncating strategy (truncate either before or after each sequence.). Defaults to 'post'.\n",
        "\n",
        "\n",
        "- `PADDING`: Padding strategy (pad either before or after each sequence.). Defaults to 'post'.\n",
        "\n",
        "\n",
        "- `OOV_TOKEN`: Token to replace out-of-vocabulary words during text_to_sequence calls. Defaults to \\\"\\<OOV>\\\".\n",
        "    \n",
        "    \n",
        "- `MAX_EXAMPLES`: Max number of examples to use. Defaults to 160000 (10% of the original number of examples)\n",
        "    \n",
        "    \n",
        "- `TRAINING_SPLIT`: Proportion of data used for training. Defaults to 0.9\n",
        "    \n",
        "    \n",
        "**For now leave them unchanged but after submitting your assignment for grading you are encouraged to come back here and play with these parameters to see the impact they have in the classification process.**"
      ]
    },
    {
      "cell_type": "code",
      "execution_count": null,
      "metadata": {
        "deletable": false,
        "editable": false,
        "tags": [
          "graded"
        ],
        "id": "wG-d4vzTpvmX"
      },
      "outputs": [],
      "source": [
        "# grader-required-cell\n",
        "\n",
        "EMBEDDING_DIM = 100\n",
        "MAXLEN = 16\n",
        "TRUNCATING = 'post'\n",
        "PADDING = 'post'\n",
        "OOV_TOKEN = \"<OOV>\"\n",
        "MAX_EXAMPLES = 160000\n",
        "TRAINING_SPLIT = 0.9"
      ]
    },
    {
      "cell_type": "markdown",
      "metadata": {
        "id": "QIz6oDLJpvmX"
      },
      "source": [
        "## Explore the dataset\n",
        "\n",
        "The dataset is provided in a csv file.\n",
        "\n",
        "Each row of this file contains the following values separated by commas:\n",
        "\n",
        "- target: the polarity of the tweet (0 = negative, 4 = positive)\n",
        "\n",
        "- ids: The id of the tweet\n",
        "\n",
        "- date: the date of the tweet\n",
        "\n",
        "- flag: The query. If there is no query, then this value is NO_QUERY.\n",
        "\n",
        "- user: the user that tweeted\n",
        "\n",
        "- text: the text of the tweet\n",
        "\n",
        "\n",
        "Take a look at the first two examples:"
      ]
    },
    {
      "cell_type": "code",
      "execution_count": null,
      "metadata": {
        "deletable": false,
        "editable": false,
        "tags": [
          "graded"
        ],
        "id": "YjJO8eiPpvmX",
        "outputId": "9d9c8a50-22d9-477e-8264-05673d7a0925"
      },
      "outputs": [
        {
          "name": "stdout",
          "output_type": "stream",
          "text": [
            "First data point looks like this:\n",
            "\n",
            "\"0\",\"1467810369\",\"Mon Apr 06 22:19:45 PDT 2009\",\"NO_QUERY\",\"_TheSpecialOne_\",\"@switchfoot http://twitpic.com/2y1zl - Awww, that's a bummer.  You shoulda got David Carr of Third Day to do it. ;D\"\n",
            "\n",
            "Second data point looks like this:\n",
            "\n",
            "\"0\",\"1467810672\",\"Mon Apr 06 22:19:49 PDT 2009\",\"NO_QUERY\",\"scotthamilton\",\"is upset that he can't update his Facebook by texting it... and might cry as a result  School today also. Blah!\"\n",
            "\n"
          ]
        }
      ],
      "source": [
        "# grader-required-cell\n",
        "\n",
        "SENTIMENT_CSV = \"./data/training_cleaned.csv\"\n",
        "\n",
        "with open(SENTIMENT_CSV, 'r') as csvfile:\n",
        "    print(f\"First data point looks like this:\\n\\n{csvfile.readline()}\")\n",
        "    print(f\"Second data point looks like this:\\n\\n{csvfile.readline()}\")"
      ]
    },
    {
      "cell_type": "markdown",
      "metadata": {
        "id": "JMuabf4zpvmY"
      },
      "source": [
        "**Notice that this file does not have a header so you won't need to skip the first row when parsing the file.**\n",
        "\n",
        "For the task at hand you will only need the information of the target and the text, which are the first and last element of each row."
      ]
    },
    {
      "cell_type": "markdown",
      "metadata": {
        "id": "tw2iOYSDpvmZ"
      },
      "source": [
        "## Parsing the raw data\n",
        "\n",
        "Now you need to read the data from the csv file. To do so, complete the `parse_data_from_file` function.\n",
        "\n",
        "A couple of things to note:\n",
        "\n",
        "- You should NOT omit the first line as the file does not contain headers.\n",
        "- There is no need to save the data points as numpy arrays, regular lists is fine.\n",
        "- To read from csv files use `csv.reader` by passing the appropriate arguments.\n",
        "- `csv.reader` returns an iterable that returns each row in every iteration. So the label can be accessed via `row[0]` and the text via `row[5]`.\n",
        "- The labels are originally encoded as strings ('0' representing negative and '4' representing positive). **You need to change this so that the labels are integers and 0 is used for representing negative, while 1 should represent positive.**\n"
      ]
    },
    {
      "cell_type": "code",
      "execution_count": null,
      "metadata": {
        "deletable": false,
        "tags": [
          "graded"
        ],
        "id": "5p280__EpvmZ"
      },
      "outputs": [],
      "source": [
        "# grader-required-cell\n",
        "import time\n",
        "# GRADED FUNCTION: parse_data_from_file\n",
        "def parse_data_from_file(filename):\n",
        "    \"\"\"\n",
        "    Extracts sentences and labels from a CSV file\n",
        "\n",
        "    Args:\n",
        "        filename (string): path to the CSV file\n",
        "\n",
        "    Returns:\n",
        "        sentences, labels (list of string, list of string): tuple containing lists of sentences and labels\n",
        "    \"\"\"\n",
        "\n",
        "    sentences = []\n",
        "    labels = []\n",
        "\n",
        "    with open(filename, 'r') as csvfile:\n",
        "        ### START CODE HERE\n",
        "\n",
        "        reader = csv.reader(csvfile, delimiter= ',')\n",
        "        for row in reader:\n",
        "            labels.append(int(row[0]))\n",
        "            sentences.append(row[5])\n",
        "\n",
        "        #start_time = time.time()\n",
        "        labels = [1 if x == 4 else x for x in labels]\n",
        "\n",
        "        #end_time = time.time()\n",
        "        #elapsed_time = end_time - start_time\n",
        "        #print(f\"Time taken: {elapsed_time} seconds\")\n",
        "        ### END CODE HERE\n",
        "\n",
        "    return sentences, labels"
      ]
    },
    {
      "cell_type": "code",
      "execution_count": null,
      "metadata": {
        "deletable": false,
        "editable": false,
        "tags": [
          "graded"
        ],
        "id": "9FkMjCkSpvma",
        "outputId": "c383fe64-4189-42f6-cad0-325bae927380"
      },
      "outputs": [
        {
          "name": "stdout",
          "output_type": "stream",
          "text": [
            "dataset contains 1600000 examples\n",
            "\n",
            "Text of second example should look like this:\n",
            "is upset that he can't update his Facebook by texting it... and might cry as a result  School today also. Blah!\n",
            "\n",
            "Text of fourth example should look like this:\n",
            "my whole body feels itchy and like its on fire \n",
            "\n",
            "Labels of last 5 examples should look like this:\n",
            "[1, 1, 1, 1, 1]\n"
          ]
        }
      ],
      "source": [
        "# grader-required-cell\n",
        "\n",
        "# Test your function\n",
        "sentences, labels = parse_data_from_file(SENTIMENT_CSV)\n",
        "\n",
        "print(f\"dataset contains {len(sentences)} examples\\n\")\n",
        "\n",
        "print(f\"Text of second example should look like this:\\n{sentences[1]}\\n\")\n",
        "print(f\"Text of fourth example should look like this:\\n{sentences[3]}\")\n",
        "\n",
        "print(f\"\\nLabels of last 5 examples should look like this:\\n{labels[-5:]}\")"
      ]
    },
    {
      "cell_type": "markdown",
      "metadata": {
        "id": "FXR_qRNspvma"
      },
      "source": [
        "***Expected Output:***\n",
        "\n",
        "```\n",
        "dataset contains 1600000 examples\n",
        "\n",
        "Text of second example should look like this:\n",
        "is upset that he can't update his Facebook by texting it... and might cry as a result  School today also. Blah!\n",
        "\n",
        "Text of fourth example should look like this:\n",
        "my whole body feels itchy and like its on fire\n",
        "\n",
        "Labels of last 5 examples should look like this:\n",
        "[1, 1, 1, 1, 1]\n",
        "\n",
        "```"
      ]
    },
    {
      "cell_type": "markdown",
      "metadata": {
        "id": "TVOshkENpvmb"
      },
      "source": [
        "You might have noticed that this dataset contains a lot of examples. In order to keep a low execution time of this assignment you will be using only 10% of the original data. The next cell does this while also randomnizing the datapoints that will be used:"
      ]
    },
    {
      "cell_type": "code",
      "execution_count": null,
      "metadata": {
        "deletable": false,
        "editable": false,
        "tags": [
          "graded"
        ],
        "id": "7eaUOhRIpvmb",
        "outputId": "de0f0be3-b594-4e51-84d7-c53ccdeed679"
      },
      "outputs": [
        {
          "name": "stdout",
          "output_type": "stream",
          "text": [
            "There are 160000 sentences and 160000 labels after random sampling\n",
            "\n"
          ]
        }
      ],
      "source": [
        "# grader-required-cell\n",
        "\n",
        "# Bundle the two lists into a single one\n",
        "sentences_and_labels = list(zip(sentences, labels))\n",
        "\n",
        "# Perform random sampling\n",
        "random.seed(42)\n",
        "sentences_and_labels = random.sample(sentences_and_labels, MAX_EXAMPLES)\n",
        "\n",
        "# Unpack back into separate lists\n",
        "sentences, labels = zip(*sentences_and_labels)\n",
        "\n",
        "print(f\"There are {len(sentences)} sentences and {len(labels)} labels after random sampling\\n\")"
      ]
    },
    {
      "cell_type": "markdown",
      "metadata": {
        "id": "eb5u83H8pvmb"
      },
      "source": [
        "***Expected Output:***\n",
        "\n",
        "```\n",
        "There are 160000 sentences and 160000 labels after random sampling\n",
        "\n",
        "```"
      ]
    },
    {
      "cell_type": "markdown",
      "metadata": {
        "id": "HkDfinLopvmc"
      },
      "source": [
        "## Training - Validation Split\n",
        "\n",
        "Now you will code the `train_val_split`, which given the list of sentences, the list of labels and the proportion of data for the training set, should return the training and validation sentences and labels:"
      ]
    },
    {
      "cell_type": "code",
      "execution_count": null,
      "metadata": {
        "deletable": false,
        "tags": [
          "graded"
        ],
        "id": "RJI3Cf1fpvmc"
      },
      "outputs": [],
      "source": [
        "# grader-required-cell\n",
        "\n",
        "# GRADED FUNCTION: train_val_split\n",
        "def train_val_split(sentences, labels, training_split):\n",
        "    \"\"\"\n",
        "    Splits the dataset into training and validation sets\n",
        "\n",
        "    Args:\n",
        "        sentences (list of string): lower-cased sentences without stopwords\n",
        "        labels (list of string): list of labels\n",
        "        training split (float): proportion of the dataset to convert to include in the train set\n",
        "\n",
        "    Returns:\n",
        "        train_sentences, validation_sentences, train_labels, validation_labels - lists containing the data splits\n",
        "    \"\"\"\n",
        "    ### START CODE HERE\n",
        "\n",
        "    # Compute the number of sentences that will be used for training (should be an integer)\n",
        "    train_size = int(training_split*len(sentences))\n",
        "\n",
        "    # Split the sentences and labels into train/validation splits\n",
        "    train_sentences = sentences[:train_size]\n",
        "    train_labels = labels[:train_size]\n",
        "\n",
        "    validation_sentences = sentences[train_size:]\n",
        "    validation_labels = labels[train_size:]\n",
        "\n",
        "    ### END CODE HERE\n",
        "\n",
        "    return train_sentences, validation_sentences, train_labels, validation_labels"
      ]
    },
    {
      "cell_type": "code",
      "execution_count": null,
      "metadata": {
        "deletable": false,
        "editable": false,
        "tags": [
          "graded"
        ],
        "id": "DxvF9qwzpvmc",
        "outputId": "90eaefa4-2e73-4ccb-f5b7-178aed63d867"
      },
      "outputs": [
        {
          "name": "stdout",
          "output_type": "stream",
          "text": [
            "There are 144000 sentences for training.\n",
            "\n",
            "There are 144000 labels for training.\n",
            "\n",
            "There are 16000 sentences for validation.\n",
            "\n",
            "There are 16000 labels for validation.\n"
          ]
        }
      ],
      "source": [
        "# grader-required-cell\n",
        "\n",
        "# Test your function\n",
        "train_sentences, val_sentences, train_labels, val_labels = train_val_split(sentences, labels, TRAINING_SPLIT)\n",
        "\n",
        "print(f\"There are {len(train_sentences)} sentences for training.\\n\")\n",
        "print(f\"There are {len(train_labels)} labels for training.\\n\")\n",
        "print(f\"There are {len(val_sentences)} sentences for validation.\\n\")\n",
        "print(f\"There are {len(val_labels)} labels for validation.\")"
      ]
    },
    {
      "cell_type": "markdown",
      "metadata": {
        "id": "BdlM1_Egpvmd"
      },
      "source": [
        "***Expected Output:***\n",
        "\n",
        "```\n",
        "There are 144000 sentences for training.\n",
        "\n",
        "There are 144000 labels for training.\n",
        "\n",
        "There are 16000 sentences for validation.\n",
        "\n",
        "There are 16000 labels for validation.\n",
        "\n",
        "```"
      ]
    },
    {
      "cell_type": "markdown",
      "metadata": {
        "id": "hlmzwRfOpvmd"
      },
      "source": [
        "## Tokenization - Sequences, truncating and padding\n",
        "\n",
        "Now that you have sets for training and validation it is time for you to begin the tokenization process.\n",
        "\n",
        "Begin by completing the `fit_tokenizer` function below. This function should return a [Tokenizer](https://www.tensorflow.org/api_docs/python/tf/keras/preprocessing/text/Tokenizer) that has been fitted to the training sentences."
      ]
    },
    {
      "cell_type": "code",
      "execution_count": null,
      "metadata": {
        "deletable": false,
        "tags": [
          "graded"
        ],
        "id": "SIzmJEX1pvmd"
      },
      "outputs": [],
      "source": [
        "# grader-required-cell\n",
        "\n",
        "# GRADED FUNCTION: fit_tokenizer\n",
        "def fit_tokenizer(train_sentences, oov_token):\n",
        "    \"\"\"\n",
        "    Instantiates the Tokenizer class on the training sentences\n",
        "\n",
        "    Args:\n",
        "        train_sentences (list of string): lower-cased sentences without stopwords to be used for training\n",
        "        oov_token (string) - symbol for the out-of-vocabulary token\n",
        "\n",
        "    Returns:\n",
        "        tokenizer (object): an instance of the Tokenizer class containing the word-index dictionary\n",
        "    \"\"\"\n",
        "    ### START CODE HERE\n",
        "\n",
        "    # Instantiate the Tokenizer class, passing in the correct values for oov_token\n",
        "    tokenizer = Tokenizer(oov_token = oov_token)\n",
        "\n",
        "    # Fit the tokenizer to the training sentences\n",
        "    tokenizer.fit_on_texts(train_sentences)\n",
        "\n",
        "    ### END CODE HERE\n",
        "\n",
        "    return tokenizer"
      ]
    },
    {
      "cell_type": "code",
      "execution_count": null,
      "metadata": {
        "deletable": false,
        "editable": false,
        "tags": [
          "graded"
        ],
        "id": "YpjWhXA1pvmd",
        "outputId": "290b2a89-34f5-4c1a-efac-e3686eb038be"
      },
      "outputs": [
        {
          "name": "stdout",
          "output_type": "stream",
          "text": [
            "Vocabulary contains 128293 words\n",
            "\n",
            "<OOV> token included in vocabulary\n",
            "\n",
            "index of word 'i' should be 2\n"
          ]
        }
      ],
      "source": [
        "# grader-required-cell\n",
        "\n",
        "# Test your function\n",
        "tokenizer = fit_tokenizer(train_sentences, OOV_TOKEN)\n",
        "\n",
        "word_index = tokenizer.word_index\n",
        "VOCAB_SIZE = len(word_index)\n",
        "\n",
        "print(f\"Vocabulary contains {VOCAB_SIZE} words\\n\")\n",
        "print(\"<OOV> token included in vocabulary\" if \"<OOV>\" in word_index else \"<OOV> token NOT included in vocabulary\")\n",
        "print(f\"\\nindex of word 'i' should be {word_index['i']}\")"
      ]
    },
    {
      "cell_type": "markdown",
      "metadata": {
        "id": "B-mLe1VDpvmd"
      },
      "source": [
        "***Expected Output:***\n",
        "\n",
        "```\n",
        "Vocabulary contains 128293 words\n",
        "\n",
        "<OOV> token included in vocabulary\n",
        "\n",
        "index of word 'i' should be 2\n",
        "\n",
        "```"
      ]
    },
    {
      "cell_type": "code",
      "execution_count": null,
      "metadata": {
        "deletable": false,
        "tags": [
          "graded"
        ],
        "id": "C_Z3jMjzpvme"
      },
      "outputs": [],
      "source": [
        "# grader-required-cell\n",
        "\n",
        "# GRADED FUNCTION: seq_pad_and_trunc\n",
        "def seq_pad_and_trunc(sentences, tokenizer, padding, truncating, maxlen):\n",
        "    \"\"\"\n",
        "    Generates an array of token sequences and pads them to the same length\n",
        "\n",
        "    Args:\n",
        "        sentences (list of string): list of sentences to tokenize and pad\n",
        "        tokenizer (object): Tokenizer instance containing the word-index dictionary\n",
        "        padding (string): type of padding to use\n",
        "        truncating (string): type of truncating to use\n",
        "        maxlen (int): maximum length of the token sequence\n",
        "\n",
        "    Returns:\n",
        "        pad_trunc_sequences (array of int): tokenized sentences padded to the same length\n",
        "    \"\"\"\n",
        "    ### START CODE HERE\n",
        "\n",
        "    # Convert sentences to sequences\n",
        "    sequences = tokenizer.texts_to_sequences(sentences)\n",
        "\n",
        "    # Pad the sequences using the correct padding, truncating and maxlen\n",
        "    pad_trunc_sequences =  pad_sequences(sequences, padding = padding, truncating = truncating, maxlen = maxlen)\n",
        "\n",
        "    ### END CODE HERE\n",
        "\n",
        "    return pad_trunc_sequences"
      ]
    },
    {
      "cell_type": "code",
      "execution_count": null,
      "metadata": {
        "deletable": false,
        "editable": false,
        "tags": [
          "graded"
        ],
        "id": "ksQTqFUJpvme",
        "outputId": "2a225e5e-aed4-4d99-b515-1fb78f0af618"
      },
      "outputs": [
        {
          "name": "stdout",
          "output_type": "stream",
          "text": [
            "Padded and truncated training sequences have shape: (144000, 16)\n",
            "\n",
            "Padded and truncated validation sequences have shape: (16000, 16)\n"
          ]
        }
      ],
      "source": [
        "# grader-required-cell\n",
        "\n",
        "# Test your function\n",
        "train_pad_trunc_seq = seq_pad_and_trunc(train_sentences, tokenizer, PADDING, TRUNCATING, MAXLEN)\n",
        "val_pad_trunc_seq = seq_pad_and_trunc(val_sentences, tokenizer, PADDING, TRUNCATING, MAXLEN)\n",
        "\n",
        "print(f\"Padded and truncated training sequences have shape: {train_pad_trunc_seq.shape}\\n\")\n",
        "print(f\"Padded and truncated validation sequences have shape: {val_pad_trunc_seq.shape}\")"
      ]
    },
    {
      "cell_type": "markdown",
      "metadata": {
        "id": "j9EwPzMFpvme"
      },
      "source": [
        "***Expected Output:***\n",
        "\n",
        "```\n",
        "Padded and truncated training sequences have shape: (144000, 16)\n",
        "\n",
        "Padded and truncated validation sequences have shape: (16000, 16)\n",
        "\n",
        "```"
      ]
    },
    {
      "cell_type": "markdown",
      "metadata": {
        "id": "qc91bVg3pvme"
      },
      "source": [
        "Remember that the `pad_sequences` function returns numpy arrays, so your training and validation sequences are already in this format.\n",
        "\n",
        "However the labels are still Python lists. Before going forward you should convert them numpy arrays as well. You can do this by running the following cell:"
      ]
    },
    {
      "cell_type": "code",
      "execution_count": null,
      "metadata": {
        "deletable": false,
        "editable": false,
        "tags": [
          "graded"
        ],
        "id": "_rAvAZxQpvmf"
      },
      "outputs": [],
      "source": [
        "# grader-required-cell\n",
        "\n",
        "train_labels = np.array(train_labels)\n",
        "val_labels = np.array(val_labels)"
      ]
    },
    {
      "cell_type": "markdown",
      "metadata": {
        "id": "l0AVgimBpvmf"
      },
      "source": [
        "# Using pre-defined Embeddings\n",
        "\n",
        "This time you will not be learning embeddings from your data but you will be using pre-trained word vectors.\n",
        "\n",
        "In particular you will be using the 100 dimension version of [GloVe](https://nlp.stanford.edu/projects/glove/) from Stanford."
      ]
    },
    {
      "cell_type": "code",
      "execution_count": null,
      "metadata": {
        "deletable": false,
        "editable": false,
        "tags": [
          "graded"
        ],
        "id": "1RVqBZwdpvmf"
      },
      "outputs": [],
      "source": [
        "# grader-required-cell\n",
        "\n",
        "# Define path to file containing the embeddings\n",
        "GLOVE_FILE = './data/glove.6B.100d.txt'\n",
        "\n",
        "# Initialize an empty embeddings index dictionary\n",
        "GLOVE_EMBEDDINGS = {}\n",
        "\n",
        "# Read file and fill GLOVE_EMBEDDINGS with its contents\n",
        "with open(GLOVE_FILE) as f:\n",
        "    for line in f:\n",
        "        values = line.split()\n",
        "        word = values[0]\n",
        "        coefs = np.asarray(values[1:], dtype='float32')\n",
        "        GLOVE_EMBEDDINGS[word] = coefs"
      ]
    },
    {
      "cell_type": "markdown",
      "metadata": {
        "id": "2_mT0igdpvmg"
      },
      "source": [
        "Now you have access to GloVe's pre-trained word vectors. Isn't that cool?\n",
        "\n",
        "Let's take a look at the vector for the word **dog**:"
      ]
    },
    {
      "cell_type": "code",
      "execution_count": null,
      "metadata": {
        "deletable": false,
        "editable": false,
        "tags": [
          "graded"
        ],
        "id": "6OMcr2x4pvmg",
        "outputId": "c73f30c9-9f44-4521-9e43-dcd50691b404"
      },
      "outputs": [
        {
          "name": "stdout",
          "output_type": "stream",
          "text": [
            "Vector representation of word dog looks like this:\n",
            "\n",
            "[ 0.30817    0.30938    0.52803   -0.92543   -0.73671    0.63475\n",
            "  0.44197    0.10262   -0.09142   -0.56607   -0.5327     0.2013\n",
            "  0.7704    -0.13983    0.13727    1.1128     0.89301   -0.17869\n",
            " -0.0019722  0.57289    0.59479    0.50428   -0.28991   -1.3491\n",
            "  0.42756    1.2748    -1.1613    -0.41084    0.042804   0.54866\n",
            "  0.18897    0.3759     0.58035    0.66975    0.81156    0.93864\n",
            " -0.51005   -0.070079   0.82819   -0.35346    0.21086   -0.24412\n",
            " -0.16554   -0.78358   -0.48482    0.38968   -0.86356   -0.016391\n",
            "  0.31984   -0.49246   -0.069363   0.018869  -0.098286   1.3126\n",
            " -0.12116   -1.2399    -0.091429   0.35294    0.64645    0.089642\n",
            "  0.70294    1.1244     0.38639    0.52084    0.98787    0.79952\n",
            " -0.34625    0.14095    0.80167    0.20987   -0.86007   -0.15308\n",
            "  0.074523   0.40816    0.019208   0.51587   -0.34428   -0.24525\n",
            " -0.77984    0.27425    0.22418    0.20164    0.017431  -0.014697\n",
            " -1.0235    -0.39695   -0.0056188  0.30569    0.31748    0.021404\n",
            "  0.11837   -0.11319    0.42456    0.53405   -0.16717   -0.27185\n",
            " -0.6255     0.12883    0.62529   -0.52086  ]\n"
          ]
        }
      ],
      "source": [
        "# grader-required-cell\n",
        "\n",
        "test_word = 'dog'\n",
        "\n",
        "test_vector = GLOVE_EMBEDDINGS[test_word]\n",
        "\n",
        "print(f\"Vector representation of word {test_word} looks like this:\\n\\n{test_vector}\")"
      ]
    },
    {
      "cell_type": "markdown",
      "metadata": {
        "id": "eYFGGVHYpvmg"
      },
      "source": [
        "Feel free to change the `test_word` to see the vector representation of any word you can think of.\n",
        "\n",
        "Also, notice that the dimension of each vector is 100. You can easily double check this by running the following cell:"
      ]
    },
    {
      "cell_type": "code",
      "execution_count": null,
      "metadata": {
        "deletable": false,
        "editable": false,
        "tags": [
          "graded"
        ],
        "id": "vgly1ttPpvmg",
        "outputId": "8ea95d5d-fbb7-48fc-cdf6-4e2be8a7f800"
      },
      "outputs": [
        {
          "name": "stdout",
          "output_type": "stream",
          "text": [
            "Each word vector has shape: (100,)\n"
          ]
        }
      ],
      "source": [
        "# grader-required-cell\n",
        "\n",
        "print(f\"Each word vector has shape: {test_vector.shape}\")"
      ]
    },
    {
      "cell_type": "markdown",
      "metadata": {
        "id": "kZrN6ulLpvmg"
      },
      "source": [
        "## Represent the words in your vocabulary using the embeddings\n",
        "\n",
        "Save the vector representation of each word in the vocabulary in a numpy array.\n",
        "\n",
        "A couple of things to notice:\n",
        "- If a word in your vocabulary is not present in `GLOVE_EMBEDDINGS` the representation for that word is left as a column of zeros.\n",
        "- `word_index` starts counting at 1, because of this you will need to add an extra column at the left-most side of the `EMBEDDINGS_MATRIX` array. This is the reason why you add 1 to `VOCAB_SIZE` in the cell below:"
      ]
    },
    {
      "cell_type": "code",
      "execution_count": null,
      "metadata": {
        "deletable": false,
        "editable": false,
        "id": "C1zdgJkusRh0",
        "tags": [
          "graded"
        ]
      },
      "outputs": [],
      "source": [
        "# grader-required-cell\n",
        "\n",
        "# Initialize an empty numpy array with the appropriate size\n",
        "EMBEDDINGS_MATRIX = np.zeros((VOCAB_SIZE+1, EMBEDDING_DIM))\n",
        "\n",
        "# Iterate all of the words in the vocabulary and if the vector representation for\n",
        "# each word exists within GloVe's representations, save it in the EMBEDDINGS_MATRIX array\n",
        "for word, i in word_index.items():\n",
        "    embedding_vector = GLOVE_EMBEDDINGS.get(word)\n",
        "    if embedding_vector is not None:\n",
        "        EMBEDDINGS_MATRIX[i] = embedding_vector"
      ]
    },
    {
      "cell_type": "markdown",
      "metadata": {
        "id": "7ig6664bpvmh"
      },
      "source": [
        "Now you have the pre-trained embeddings ready to use!"
      ]
    },
    {
      "cell_type": "markdown",
      "metadata": {
        "id": "Q0Dksecbpvmh"
      },
      "source": [
        "## Define a model that does not overfit\n",
        "\n",
        "Now you need to define a model that will handle the problem at hand while not overfitting.\n",
        "\n",
        "A couple of things to note / hints:\n",
        "\n",
        "- The first layer is provided so you can see how the Embedding layer is configured when using pre-trained embeddings\n",
        "\n",
        "\n",
        "- You can try different combinations of layers covered in previous ungraded labs such as:\n",
        "    - `Conv1D`\n",
        "    - `Dropout`\n",
        "    - `GlobalMaxPooling1D`    \n",
        "    - `MaxPooling1D`    \n",
        "    - `LSTM`    \n",
        "    - `Bidirectional(LSTM)`\n",
        "\n",
        "\n",
        "- The last two layers should be `Dense` layers.\n",
        "\n",
        "\n",
        "- There multiple ways of solving this problem. So try an architecture that you think will not overfit.\n",
        "\n",
        "\n",
        "- Try simpler architectures first to avoid long training times. Architectures that are able to solve this problem usually have around 3-4 layers (excluding the last two `Dense` ones)\n",
        "\n",
        "\n",
        "- Include at least one `Dropout` layer to mitigate overfitting."
      ]
    },
    {
      "cell_type": "code",
      "execution_count": null,
      "metadata": {
        "deletable": false,
        "tags": [
          "graded"
        ],
        "id": "lVDBrnrQpvmo"
      },
      "outputs": [],
      "source": [
        "# grader-required-cell\n",
        "\n",
        "# GRADED FUNCTION: create_model\n",
        "def create_model(vocab_size, embedding_dim, maxlen, embeddings_matrix):\n",
        "    \"\"\"\n",
        "    Creates a binary sentiment classifier model\n",
        "\n",
        "    Args:\n",
        "        vocab_size (int): size of the vocabulary for the Embedding layer input\n",
        "        embedding_dim (int): dimensionality of the Embedding layer output\n",
        "        maxlen (int): length of the input sequences\n",
        "        embeddings_matrix (array): predefined weights of the embeddings\n",
        "\n",
        "    Returns:\n",
        "        model (tf.keras Model): the sentiment classifier model\n",
        "    \"\"\"\n",
        "    ### START CODE HERE\n",
        "\n",
        "    model = tf.keras.Sequential([\n",
        "        # This is how you need to set the Embedding layer when using pre-trained embeddings\n",
        "        tf.keras.layers.Embedding(vocab_size+1, embedding_dim, input_length=maxlen, weights=[embeddings_matrix], trainable=False),\n",
        "\n",
        "        #tf.keras.layers.Bidirectional(tf.keras.layers.LSTM(units = 64, return_sequences=True)),\n",
        "        tf.keras.layers.Dropout(0.25),\n",
        "        tf.keras.layers.Bidirectional(tf.keras.layers.LSTM(units = 32)),\n",
        "        #tf.keras.layers.Dropout(0.25),\n",
        "        #tf.keras.layers.Conv1D(filters = 3, kernel_size =3),\n",
        "        #tf.keras.layers.GlobalAveragePooling1D(),\n",
        "        #tf.keras.layers.Flatten(),\n",
        "        #tf.keras.layers.Conv1D(filters = 3, kernel_size =3),\n",
        "        tf.keras.layers.Dense(units= 32, activation = 'relu'),\n",
        "        tf.keras.layers.Dense(1, activation='sigmoid')\n",
        "    ])\n",
        "\n",
        "    model.compile(loss= 'binary_crossentropy',\n",
        "                  optimizer= tf.keras.optimizers.Adam(learning_rate = 0.0001),\n",
        "                  metrics=['accuracy'])\n",
        "\n",
        "    ### END CODE HERE\n",
        "    print(model.summary())\n",
        "\n",
        "    return model\n"
      ]
    },
    {
      "cell_type": "code",
      "execution_count": null,
      "metadata": {
        "id": "nhhrebSOpvmo"
      },
      "outputs": [],
      "source": []
    },
    {
      "cell_type": "code",
      "execution_count": null,
      "metadata": {
        "deletable": false,
        "editable": false,
        "tags": [
          "graded"
        ],
        "id": "sk61U6hGpvmo",
        "outputId": "2b4a585f-9ad4-48e4-8eab-718c20f6d6c3"
      },
      "outputs": [
        {
          "name": "stdout",
          "output_type": "stream",
          "text": [
            "Model: \"sequential_27\"\n",
            "_________________________________________________________________\n",
            " Layer (type)                Output Shape              Param #   \n",
            "=================================================================\n",
            " embedding_30 (Embedding)    (None, 16, 100)           12829400  \n",
            "                                                                 \n",
            " dropout_5 (Dropout)         (None, 16, 100)           0         \n",
            "                                                                 \n",
            " bidirectional_32 (Bidirecti  (None, 64)               34048     \n",
            " onal)                                                           \n",
            "                                                                 \n",
            " dense_55 (Dense)            (None, 32)                2080      \n",
            "                                                                 \n",
            " dense_56 (Dense)            (None, 1)                 33        \n",
            "                                                                 \n",
            "=================================================================\n",
            "Total params: 12,865,561\n",
            "Trainable params: 36,161\n",
            "Non-trainable params: 12,829,400\n",
            "_________________________________________________________________\n",
            "None\n",
            "Epoch 1/20\n",
            "4500/4500 [==============================] - 81s 18ms/step - loss: 0.6117 - accuracy: 0.6599 - val_loss: 0.5598 - val_accuracy: 0.7118\n",
            "Epoch 2/20\n",
            "4500/4500 [==============================] - 80s 18ms/step - loss: 0.5694 - accuracy: 0.6983 - val_loss: 0.5400 - val_accuracy: 0.7246\n",
            "Epoch 3/20\n",
            "4500/4500 [==============================] - 77s 17ms/step - loss: 0.5533 - accuracy: 0.7127 - val_loss: 0.5250 - val_accuracy: 0.7373\n",
            "Epoch 4/20\n",
            "4500/4500 [==============================] - 77s 17ms/step - loss: 0.5421 - accuracy: 0.7201 - val_loss: 0.5168 - val_accuracy: 0.7401\n",
            "Epoch 5/20\n",
            "4500/4500 [==============================] - 78s 17ms/step - loss: 0.5346 - accuracy: 0.7267 - val_loss: 0.5128 - val_accuracy: 0.7434\n",
            "Epoch 6/20\n",
            "4500/4500 [==============================] - 75s 17ms/step - loss: 0.5297 - accuracy: 0.7304 - val_loss: 0.5096 - val_accuracy: 0.7462\n",
            "Epoch 7/20\n",
            "4500/4500 [==============================] - 70s 16ms/step - loss: 0.5251 - accuracy: 0.7336 - val_loss: 0.5079 - val_accuracy: 0.7464\n",
            "Epoch 8/20\n",
            "4500/4500 [==============================] - 70s 16ms/step - loss: 0.5212 - accuracy: 0.7362 - val_loss: 0.5048 - val_accuracy: 0.7494\n",
            "Epoch 9/20\n",
            "4500/4500 [==============================] - 70s 16ms/step - loss: 0.5171 - accuracy: 0.7398 - val_loss: 0.4985 - val_accuracy: 0.7543\n",
            "Epoch 10/20\n",
            "4500/4500 [==============================] - 70s 16ms/step - loss: 0.5136 - accuracy: 0.7419 - val_loss: 0.5043 - val_accuracy: 0.7489\n",
            "Epoch 11/20\n",
            "4500/4500 [==============================] - 72s 16ms/step - loss: 0.5116 - accuracy: 0.7438 - val_loss: 0.4963 - val_accuracy: 0.7544\n",
            "Epoch 12/20\n",
            "4500/4500 [==============================] - 70s 16ms/step - loss: 0.5093 - accuracy: 0.7462 - val_loss: 0.4990 - val_accuracy: 0.7511\n",
            "Epoch 13/20\n",
            "4500/4500 [==============================] - 70s 15ms/step - loss: 0.5062 - accuracy: 0.7479 - val_loss: 0.4907 - val_accuracy: 0.7592\n",
            "Epoch 14/20\n",
            "4500/4500 [==============================] - 70s 16ms/step - loss: 0.5047 - accuracy: 0.7486 - val_loss: 0.4902 - val_accuracy: 0.7578\n",
            "Epoch 15/20\n",
            "4500/4500 [==============================] - 70s 15ms/step - loss: 0.5021 - accuracy: 0.7506 - val_loss: 0.4893 - val_accuracy: 0.7607\n",
            "Epoch 16/20\n",
            "4500/4500 [==============================] - 68s 15ms/step - loss: 0.5005 - accuracy: 0.7512 - val_loss: 0.4865 - val_accuracy: 0.7617\n",
            "Epoch 17/20\n",
            "4500/4500 [==============================] - 70s 15ms/step - loss: 0.4986 - accuracy: 0.7526 - val_loss: 0.4924 - val_accuracy: 0.7567\n",
            "Epoch 18/20\n",
            "4500/4500 [==============================] - 72s 16ms/step - loss: 0.4966 - accuracy: 0.7539 - val_loss: 0.4885 - val_accuracy: 0.7596\n",
            "Epoch 19/20\n",
            "4500/4500 [==============================] - 71s 16ms/step - loss: 0.4952 - accuracy: 0.7555 - val_loss: 0.4844 - val_accuracy: 0.7635\n",
            "Epoch 20/20\n",
            "4500/4500 [==============================] - 70s 16ms/step - loss: 0.4933 - accuracy: 0.7563 - val_loss: 0.4845 - val_accuracy: 0.7624\n"
          ]
        }
      ],
      "source": [
        "# grader-required-cell\n",
        "\n",
        "# Create your untrained model\n",
        "model = create_model(VOCAB_SIZE, EMBEDDING_DIM, MAXLEN, EMBEDDINGS_MATRIX)\n",
        "\n",
        "# Train the model and save the training history\n",
        "history = model.fit(train_pad_trunc_seq, train_labels, epochs=20, validation_data=(val_pad_trunc_seq, val_labels))"
      ]
    },
    {
      "cell_type": "markdown",
      "metadata": {
        "id": "Xittjrzxpvmp"
      },
      "source": [
        "**To pass this assignment your `val_loss` (validation loss) should either be flat or decreasing.**\n",
        "\n",
        "Although a flat `val_loss` and a lowering `train_loss` (or just `loss`) also indicate some overfitting what you really want to avoid is having a lowering `train_loss` and an increasing `val_loss`.\n",
        "\n",
        "With this in mind, the following three curves will be acceptable solutions:"
      ]
    },
    {
      "cell_type": "markdown",
      "metadata": {
        "id": "iEd9OtFlpvmp"
      },
      "source": [
        "<table><tr><td><img src='images/valid-1.png'></td><td><img src='images/valid-2.jpg'></td><td><img src='images/valid-3.jpg'></td></tr></table>"
      ]
    },
    {
      "cell_type": "markdown",
      "metadata": {
        "id": "E4G_GqLwpvmp"
      },
      "source": [
        "While the following would not be able to pass the grading:"
      ]
    },
    {
      "cell_type": "markdown",
      "metadata": {
        "id": "vdeKMZy7pvmp"
      },
      "source": [
        "<table><tr><td><img src='images/invalid-1.jpg'></td></tr></table>"
      ]
    },
    {
      "cell_type": "markdown",
      "metadata": {
        "id": "aSHt4iprpvmp"
      },
      "source": [
        "Run the following cell to check your loss curves:"
      ]
    },
    {
      "cell_type": "code",
      "execution_count": null,
      "metadata": {
        "deletable": false,
        "editable": false,
        "tags": [
          "graded"
        ],
        "id": "F0b5osKgpvmp",
        "outputId": "d28564ec-ad00-4f94-a534-80b44d28e799"
      },
      "outputs": [
        {
          "data": {
            "image/png": "[encoded data removed]",
            "text/plain": [
              "<Figure size 432x288 with 1 Axes>"
            ]
          },
          "metadata": {
            "needs_background": "light"
          },
          "output_type": "display_data"
        }
      ],
      "source": [
        "# grader-required-cell\n",
        "\n",
        "#-----------------------------------------------------------\n",
        "# Retrieve a list of list results on training and test data\n",
        "# sets for each training epoch\n",
        "#-----------------------------------------------------------\n",
        "loss = history.history['loss']\n",
        "val_loss = history.history['val_loss']\n",
        "\n",
        "epochs = [*range(20)]\n",
        "\n",
        "#------------------------------------------------\n",
        "# Plot training and validation loss per epoch\n",
        "#------------------------------------------------\n",
        "plt.plot(epochs, loss, 'r')\n",
        "plt.plot(epochs, val_loss, 'b')\n",
        "plt.title('Training and validation loss')\n",
        "plt.xlabel(\"Epochs\")\n",
        "plt.ylabel(\"Loss\")\n",
        "plt.legend([\"Loss\", \"Validation Loss\"])\n",
        "plt.show()"
      ]
    },
    {
      "cell_type": "markdown",
      "metadata": {
        "id": "JM2_FxCDpvmq"
      },
      "source": [
        "If you wish so, you can also check the training and validation accuracies of your model:"
      ]
    },
    {
      "cell_type": "code",
      "execution_count": null,
      "metadata": {
        "deletable": false,
        "editable": false,
        "tags": [
          "graded"
        ],
        "id": "HkPEcy_Gpvmq",
        "outputId": "dfcca9f7-88eb-43d6-9439-102a3103edda"
      },
      "outputs": [
        {
          "data": {
            "image/png": "[encoded data removed]",
            "text/plain": [
              "<Figure size 432x288 with 1 Axes>"
            ]
          },
          "metadata": {
            "needs_background": "light"
          },
          "output_type": "display_data"
        }
      ],
      "source": [
        "# grader-required-cell\n",
        "\n",
        "acc = history.history['accuracy']\n",
        "val_acc = history.history['val_accuracy']\n",
        "\n",
        "#------------------------------------------------\n",
        "# Plot training and validation accuracy per epoch\n",
        "#------------------------------------------------\n",
        "plt.plot(epochs, acc, 'r')\n",
        "plt.plot(epochs, val_acc, 'b')\n",
        "plt.title('Training and validation accuracy')\n",
        "plt.xlabel(\"Epochs\")\n",
        "plt.ylabel(\"Accuracy\")\n",
        "plt.legend([\"Accuracy\", \"Validation Accuracy\"])\n",
        "plt.show()"
      ]
    },
    {
      "cell_type": "markdown",
      "metadata": {
        "id": "OaKtkOp5pvmq"
      },
      "source": [
        "A more rigorous way of setting the passing threshold of this assignment is to use the slope of your `val_loss` curve.\n",
        "\n",
        "**To pass this assignment the slope of your `val_loss` curve should be 0.0005 at maximum.**"
      ]
    },
    {
      "cell_type": "code",
      "execution_count": null,
      "metadata": {
        "deletable": false,
        "editable": false,
        "tags": [
          "graded"
        ],
        "id": "tUrQLqKPpvmq",
        "outputId": "23414ea2-ab63-4eff-ca5a-758d55c3375f"
      },
      "outputs": [
        {
          "name": "stdout",
          "output_type": "stream",
          "text": [
            "The slope of your validation loss curve is -0.00294\n"
          ]
        }
      ],
      "source": [
        "# grader-required-cell\n",
        "\n",
        "# Test the slope of your val_loss curve\n",
        "slope, *_ = linregress(epochs, val_loss)\n",
        "print(f\"The slope of your validation loss curve is {slope:.5f}\")"
      ]
    },
    {
      "cell_type": "markdown",
      "metadata": {
        "id": "y7oEgQvYpvmq"
      },
      "source": [
        "**If your model generated a validation loss curve that meets the criteria above, run the following cell and then submit your assignment for grading. Otherwise, try with a different architecture.**"
      ]
    },
    {
      "cell_type": "code",
      "execution_count": null,
      "metadata": {
        "deletable": false,
        "editable": false,
        "tags": [
          "graded"
        ],
        "id": "vzJxvlKepvmr"
      },
      "outputs": [],
      "source": [
        "# grader-required-cell\n",
        "\n",
        "with open('history.pkl', 'wb') as f:\n",
        "    pickle.dump(history.history, f)"
      ]
    },
    {
      "cell_type": "markdown",
      "metadata": {
        "id": "MIZtgXyqpvmr"
      },
      "source": [
        "**Congratulations on finishing this week's assignment!**\n",
        "\n",
        "You have successfully implemented a neural network capable of classifying sentiment in text data while doing a fairly good job of not overfitting! Nice job!\n",
        "\n",
        "**Keep it up!**"
      ]
    },
    {
      "cell_type": "markdown",
      "metadata": {
        "id": "FS2YjtLepvmr"
      },
      "source": [
        "<details>\n",
        "  <summary><font size=\"2\" color=\"darkgreen\"><b>Please click here if you want to experiment with any of the non-graded code.</b></font></summary>\n",
        "    <p><i><b>Important Note: Please only do this when you've already passed the assignment to avoid problems with the autograder.</b></i>\n",
        "    <ol>\n",
        "        <li> On the notebook’s menu, click “View” > “Cell Toolbar” > “Edit Metadata”</li>\n",
        "        <li> Hit the “Edit Metadata” button next to the code cell which you want to lock/unlock</li>\n",
        "        <li> Set the attribute value for “editable” to:\n",
        "            <ul>\n",
        "                <li> “true” if you want to unlock it </li>\n",
        "                <li> “false” if you want to lock it </li>\n",
        "            </ul>\n",
        "        </li>\n",
        "        <li> On the notebook’s menu, click “View” > “Cell Toolbar” > “None” </li>\n",
        "    </ol>\n",
        "    <p> Here's a short demo of how to do the steps above:\n",
        "        <br>\n",
        "        <img src=\"https://drive.google.com/uc?export=view&id=14Xy_Mb17CZVgzVAgq7NCjMVBvSae3xO1\" align=\"center\">\n",
        "</details>"
      ]
    },
    {
      "cell_type": "code",
      "execution_count": null,
      "metadata": {
        "id": "lOFnx_SHpvmr"
      },
      "outputs": [],
      "source": []
    }
  ],
  "metadata": {
    "kernelspec": {
      "display_name": "Python 3",
      "language": "python",
      "name": "python3"
    },
    "language_info": {
      "codemirror_mode": {
        "name": "ipython",
        "version": 3
      },
      "file_extension": ".py",
      "mimetype": "text/x-python",
      "name": "python",
      "nbconvert_exporter": "python",
      "pygments_lexer": "ipython3",
      "version": "3.8.8"
    },
    "colab": {
      "provenance": []
    }
  },
  "nbformat": 4,
  "nbformat_minor": 0
}